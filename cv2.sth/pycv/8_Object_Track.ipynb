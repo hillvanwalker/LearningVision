{
 "cells": [
  {
   "cell_type": "code",
   "execution_count": null,
   "metadata": {},
   "outputs": [],
   "source": [
    "# 帧差异：将某一帧设为背景帧，并计算之后每一帧对背景的差异（差分图）\n",
    "# 背景分割器：KNN，MOG2，GMG\n",
    "import cv2\n",
    "import numpy as np\n",
    "camera = cv2.VideoCapture(0)\n",
    "es = cv2.getStructuringElement(cv2.MORPH_ELLIPSE, (10,10))\n",
    "kernel = np.ones((5,5),np.uint8)\n",
    "background = None\n",
    "while (True):\n",
    "  ret, frame = camera.read()\n",
    "  if background is None:\n",
    "    background = cv2.cvtColor(frame, cv2.COLOR_BGR2GRAY)\n",
    "    background = cv2.GaussianBlur(background, (21, 21), 0)\n",
    "    continue\n",
    "  gray_frame = cv2.cvtColor(frame, cv2.COLOR_BGR2GRAY)\n",
    "  gray_frame = cv2.GaussianBlur(gray_frame, (21, 21), 0)\n",
    "  diff = cv2.absdiff(background, gray_frame)\n",
    "  diff = cv2.threshold(diff, 25, 255, cv2.THRESH_BINARY)[1]\n",
    "  diff = cv2.dilate(diff, es, iterations = 2)\n",
    "  image, cnts, hierarchy = cv2.findContours(diff.copy(), cv2.RETR_EXTERNAL, cv2.CHAIN_APPROX_SIMPLE)\n",
    "  \n",
    "  for c in cnts:\n",
    "    if cv2.contourArea(c) < 1500:\n",
    "      continue\n",
    "    (x, y, w, h) = cv2.boundingRect(c)\n",
    "    cv2.rectangle(frame, (x, y), (x + w, y + h), (255, 255, 0), 2)\n",
    "  \n",
    "  cv2.imshow(\"contours\", frame)\n",
    "  cv2.imshow(\"dif\", diff)\n",
    "  if cv2.waitKey(1000 / 12) & 0xff == ord(\"q\"):\n",
    "      break\n",
    "cv2.destroyAllWindows()\n",
    "camera.release()"
   ]
  },
  {
   "cell_type": "code",
   "execution_count": null,
   "metadata": {},
   "outputs": [],
   "source": [
    "# 均值漂移\n",
    "# 寻找概率函数离散样本的最大密度\n",
    "\n"
   ]
  },
  {
   "cell_type": "code",
   "execution_count": null,
   "metadata": {},
   "outputs": [],
   "source": [
    "# 模板匹配\n",
    "\n"
   ]
  },
  {
   "cell_type": "code",
   "execution_count": null,
   "metadata": {},
   "outputs": [],
   "source": [
    "# 卡尔曼滤波\n"
   ]
  }
 ],
 "metadata": {
  "kernelspec": {
   "display_name": "Python 3",
   "language": "python",
   "name": "python3"
  },
  "language_info": {
   "codemirror_mode": {
    "name": "ipython",
    "version": 3
   },
   "file_extension": ".py",
   "mimetype": "text/x-python",
   "name": "python",
   "nbconvert_exporter": "python",
   "pygments_lexer": "ipython3",
   "version": "3.6.9"
  }
 },
 "nbformat": 4,
 "nbformat_minor": 2
}
