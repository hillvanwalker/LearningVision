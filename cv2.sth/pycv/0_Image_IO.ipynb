{
 "cells": [
  {
   "cell_type": "code",
   "execution_count": 1,
   "metadata": {},
   "outputs": [],
   "source": [
    "import cv2\n",
    "import numpy as np"
   ]
  },
  {
   "cell_type": "code",
   "execution_count": 2,
   "metadata": {},
   "outputs": [
    {
     "data": {
      "text/plain": [
       "(3, 3)"
      ]
     },
     "execution_count": 2,
     "metadata": {},
     "output_type": "execute_result"
    }
   ],
   "source": [
    "# 创建黑色正方形\n",
    "img = np.zeros((3, 3), dtype=np.uint8)\n",
    "img.shape"
   ]
  },
  {
   "cell_type": "code",
   "execution_count": 3,
   "metadata": {},
   "outputs": [
    {
     "data": {
      "text/plain": [
       "(3, 3, 3)"
      ]
     },
     "execution_count": 3,
     "metadata": {},
     "output_type": "execute_result"
    }
   ],
   "source": [
    "# 转换为BGR三通道\n",
    "img = cv2.cvtColor(img, cv2.COLOR_GRAY2BGR)\n",
    "img.shape"
   ]
  },
  {
   "cell_type": "code",
   "execution_count": 4,
   "metadata": {},
   "outputs": [
    {
     "data": {
      "text/plain": [
       "True"
      ]
     },
     "execution_count": 4,
     "metadata": {},
     "output_type": "execute_result"
    }
   ],
   "source": [
    "# imread默认情况下返回BGR格式图像，即使图像为灰度\n",
    "img = cv2.imread(filename='XXX.jpg', flags=cv2.IMREAD_COLOR)\n",
    "# flags = cv2.IMREAD_UNCHANGED   # -1\n",
    "#       = cv2.IMREAD_GRAYSCALE   # 0\n",
    "#       = cv2.IMREAD_COLOR       # 1\n",
    "#       = cv2.IMREAD_ANYDEPTH    # 2\n",
    "#       = cv2.IMREAD_ANYCOLOR    # 4\n",
    "#       = cv2.IMREAD_LOAD_GDAL   # 8\n",
    "# imread函数会删除所有alpha通道的信息（透明度）\n",
    "cv2.imwrite(filename='YYY.jpg', img=img)"
   ]
  },
  {
   "cell_type": "code",
   "execution_count": 5,
   "metadata": {},
   "outputs": [],
   "source": [
    "# 图像与原始字节之间的转换\n",
    "# 一幅图像的通道为8位(1个字节)，将其转换为一维格式：\n",
    "byteArray = bytearray(img)\n",
    "# byteArray(b'\\x06\\x07\\x05\\x06\\x07\\...)\n",
    "\n",
    "# 当byteArray含有恰当顺序的字节，通过转换和重构，得到二维图像\n",
    "Img = np.array(byteArray).reshape(448,663,3) # reshape(h,w,d)\n",
    "cv2.imshow('1',Img)\n",
    "cv2.waitKey(0)\n",
    "cv2.destroyAllWindows()"
   ]
  },
  {
   "cell_type": "code",
   "execution_count": 6,
   "metadata": {},
   "outputs": [
    {
     "name": "stdout",
     "output_type": "stream",
     "text": [
      "29\n",
      "255\n"
     ]
    }
   ],
   "source": [
    "# 访问图像数据\n",
    "Img[10,10] = [255,255,255]  # 将10,10处的像素设置为白色\n",
    "# 通过np数组访问更快(经过优化)\n",
    "print(Img.item(100,100,0))  # 坐标100,100，蓝色通道的值(BGR->012)\n",
    "Img.itemset((100,100,0), 255)\n",
    "print(Img.item(100,100,0))\n",
    "# 将所有通道置零\n",
    "# 像素操作效率低代价高，使用索引比较快\n",
    "Img[:,:,:]=0"
   ]
  },
  {
   "cell_type": "code",
   "execution_count": 7,
   "metadata": {},
   "outputs": [
    {
     "name": "stdout",
     "output_type": "stream",
     "text": [
      "(448, 663, 3)\n",
      "891072\n",
      "uint8\n"
     ]
    }
   ],
   "source": [
    "print(Img.shape)\n",
    "print(Img.size)\n",
    "print(Img.dtype)"
   ]
  },
  {
   "cell_type": "code",
   "execution_count": null,
   "metadata": {},
   "outputs": [],
   "source": []
  }
 ],
 "metadata": {
  "kernelspec": {
   "display_name": "Python 3",
   "language": "python",
   "name": "python3"
  },
  "language_info": {
   "codemirror_mode": {
    "name": "ipython",
    "version": 3
   },
   "file_extension": ".py",
   "mimetype": "text/x-python",
   "name": "python",
   "nbconvert_exporter": "python",
   "pygments_lexer": "ipython3",
   "version": "3.6.9"
  }
 },
 "nbformat": 4,
 "nbformat_minor": 2
}
