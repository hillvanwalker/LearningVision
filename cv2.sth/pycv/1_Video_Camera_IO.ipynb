{
 "cells": [
  {
   "cell_type": "code",
   "execution_count": 1,
   "metadata": {},
   "outputs": [],
   "source": [
    "import cv2"
   ]
  },
  {
   "cell_type": "code",
   "execution_count": 2,
   "metadata": {},
   "outputs": [],
   "source": [
    "videoCapture = cv2.VideoCapture('movie.mpg') # 指定0为摄像头\n",
    "fps = videoCapture.get(cv2.CAP_PROP_FPS)\n",
    "size = ( int(videoCapture.get(cv2.CAP_PROP_FRAME_WIDTH)),\n",
    "         int(videoCapture.get(cv2.CAP_PROP_FRAME_HEIGHT)))"
   ]
  },
  {
   "cell_type": "code",
   "execution_count": 3,
   "metadata": {},
   "outputs": [],
   "source": [
    "videoWriter = cv2.VideoWriter('output.avi',\n",
    "                              cv2.VideoWriter_fourcc('I','4','2','0'),# 未压缩YUV编码avi\n",
    "#                               cv2.VideoWriter_fourcc('P','I','M','1'),# MPEG-1编码avi\n",
    "#                               cv2.VideoWriter_fourcc('X','V','I','D'),# MPEG-4编码avi\n",
    "#                               cv2.VideoWriter_fourcc('T','H','E','O'),# OGG编码ogv\n",
    "#                               cv2.VideoWriter_fourcc('F','L','V','1'),# Flash编码flv\n",
    "                              fps, size)"
   ]
  },
  {
   "cell_type": "code",
   "execution_count": 4,
   "metadata": {},
   "outputs": [],
   "source": [
    "ret, frame = videoCapture.read()\n",
    "while ret:\n",
    "    videoWriter.write(frame)\n",
    "    ret, frame = videoCapture.read()"
   ]
  },
  {
   "cell_type": "code",
   "execution_count": 5,
   "metadata": {},
   "outputs": [
    {
     "ename": "NameError",
     "evalue": "name 'cameraCapture0' is not defined",
     "output_type": "error",
     "traceback": [
      "\u001b[0;31m---------------------------------------------------------------------------\u001b[0m",
      "\u001b[0;31mNameError\u001b[0m                                 Traceback (most recent call last)",
      "\u001b[0;32m<ipython-input-5-464008feb1db>\u001b[0m in \u001b[0;36m<module>\u001b[0;34m\u001b[0m\n\u001b[1;32m      1\u001b[0m \u001b[0;31m# 当采用多个摄像头，使用grab()和retrive()方法\u001b[0m\u001b[0;34m\u001b[0m\u001b[0;34m\u001b[0m\u001b[0;34m\u001b[0m\u001b[0m\n\u001b[0;32m----> 2\u001b[0;31m \u001b[0mret0\u001b[0m \u001b[0;34m=\u001b[0m \u001b[0mcameraCapture0\u001b[0m\u001b[0;34m.\u001b[0m\u001b[0mgrab\u001b[0m\u001b[0;34m(\u001b[0m\u001b[0;34m)\u001b[0m\u001b[0;34m\u001b[0m\u001b[0;34m\u001b[0m\u001b[0m\n\u001b[0m\u001b[1;32m      3\u001b[0m \u001b[0mret1\u001b[0m \u001b[0;34m=\u001b[0m \u001b[0mcameraCapture1\u001b[0m\u001b[0;34m.\u001b[0m\u001b[0mgrab\u001b[0m\u001b[0;34m(\u001b[0m\u001b[0;34m)\u001b[0m\u001b[0;34m\u001b[0m\u001b[0;34m\u001b[0m\u001b[0m\n\u001b[1;32m      4\u001b[0m \u001b[0;32mif\u001b[0m \u001b[0mret0\u001b[0m \u001b[0;32mand\u001b[0m \u001b[0mret1\u001b[0m\u001b[0;34m:\u001b[0m\u001b[0;34m\u001b[0m\u001b[0;34m\u001b[0m\u001b[0m\n\u001b[1;32m      5\u001b[0m     \u001b[0mframe0\u001b[0m \u001b[0;34m=\u001b[0m \u001b[0mcameraCapture0\u001b[0m\u001b[0;34m.\u001b[0m\u001b[0mretrieve\u001b[0m\u001b[0;34m(\u001b[0m\u001b[0;34m)\u001b[0m\u001b[0;34m\u001b[0m\u001b[0;34m\u001b[0m\u001b[0m\n",
      "\u001b[0;31mNameError\u001b[0m: name 'cameraCapture0' is not defined"
     ]
    }
   ],
   "source": [
    "# 当采用多个摄像头，使用grab()和retrive()方法\n",
    "ret0 = cameraCapture0.grab()\n",
    "ret1 = cameraCapture1.grab()\n",
    "if ret0 and ret1:\n",
    "    frame0 = cameraCapture0.retrieve()\n",
    "    frame1 = cameraCapture1.retrieve()"
   ]
  },
  {
   "cell_type": "code",
   "execution_count": null,
   "metadata": {},
   "outputs": [],
   "source": []
  }
 ],
 "metadata": {
  "kernelspec": {
   "display_name": "Python 3",
   "language": "python",
   "name": "python3"
  },
  "language_info": {
   "codemirror_mode": {
    "name": "ipython",
    "version": 3
   },
   "file_extension": ".py",
   "mimetype": "text/x-python",
   "name": "python",
   "nbconvert_exporter": "python",
   "pygments_lexer": "ipython3",
   "version": "3.6.9"
  }
 },
 "nbformat": 4,
 "nbformat_minor": 2
}
