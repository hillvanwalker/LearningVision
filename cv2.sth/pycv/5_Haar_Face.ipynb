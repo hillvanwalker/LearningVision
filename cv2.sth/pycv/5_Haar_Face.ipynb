{
 "cells": [
  {
   "cell_type": "code",
   "execution_count": 1,
   "metadata": {},
   "outputs": [],
   "source": [
    "# 类Haar特征用于实时人脸跟踪\n",
    "# 特征因区域大小而不同\n",
    "# 为不同大小的窗口生成特征，这些特征的集合称为级联\n",
    "# Haar级联具有尺度不变性\n",
    "# haarcascade_eye_tree_eyeglasses.xml\n",
    "# haarcascade_eye.xml\n",
    "# haarcascade_frontalface_alt2.xml\n",
    "# haarcascade_frontalface_alt_tree.xml\n",
    "# haarcascade_frontalface_alt.xml\n",
    "# haarcascade_frontalface_default.xml\n",
    "# haarcascade_fullbody.xml\n",
    "# haarcascade_lefteye_2splits.xml\n",
    "# haarcascade_licence_plate_rus_16stages.xml\n",
    "# haarcascade_lowerbody.xml\n",
    "# haarcascade_profileface.xml\n",
    "# haarcascade_righteye_2splits.xml\n",
    "# haarcascade_russian_plate_number.xml\n",
    "# haarcascade_smile.xml\n",
    "# haarcascade_upperbody.xml\n",
    "import cv2\n",
    "def generate():\n",
    "  face_cascade = cv2.CascadeClassifier('./cascades/haarcascade_frontalface_default.xml')\n",
    "  eye_cascade = cv2.CascadeClassifier('./cascades/haarcascade_eye.xml')\n",
    "  camera = cv2.VideoCapture(0)\n",
    "  ret, frame = camera.read()\n",
    "  count = 0\n",
    "  while (ret):\n",
    "    ret, frame = camera.read()\n",
    "    gray = cv2.cvtColor(frame, cv2.COLOR_BGR2GRAY)\n",
    "    faces = face_cascade.detectMultiScale(gray, 1.3, 5)\n",
    "    for (x,y,w,h) in faces:\n",
    "        img = cv2.rectangle(frame,(x,y),(x+w,y+h),(255,0,0),2)\n",
    "        f = cv2.resize(gray[y:y+h, x:x+w], (200, 200))\n",
    "        cv2.imwrite('./%s.pgm' % str(count), f)\n",
    "        print(count)\n",
    "        count += 1\n",
    "    cv2.imshow(\"camera\", frame)\n",
    "    if cv2.waitKey(1000 / 12) & 0xff == ord(\"q\"):\n",
    "      break\n",
    "  camera.release()\n",
    "  cv2.destroyAllWindows()\n",
    "if __name__ == \"__main__\":\n",
    "  generate()\n"
   ]
  },
  {
   "cell_type": "code",
   "execution_count": 2,
   "metadata": {},
   "outputs": [],
   "source": [
    "# opencv提供的三种人脸识别方法\n",
    "# LBPH\n",
    "# Eigenfaces\n",
    "# Fisherfaces\n"
   ]
  },
  {
   "cell_type": "code",
   "execution_count": null,
   "metadata": {},
   "outputs": [],
   "source": []
  }
 ],
 "metadata": {
  "kernelspec": {
   "display_name": "Python 3",
   "language": "python",
   "name": "python3"
  },
  "language_info": {
   "codemirror_mode": {
    "name": "ipython",
    "version": 3
   },
   "file_extension": ".py",
   "mimetype": "text/x-python",
   "name": "python",
   "nbconvert_exporter": "python",
   "pygments_lexer": "ipython3",
   "version": "3.6.9"
  }
 },
 "nbformat": 4,
 "nbformat_minor": 2
}
