{
 "cells": [
  {
   "cell_type": "code",
   "execution_count": 1,
   "metadata": {},
   "outputs": [
    {
     "name": "stdout",
     "output_type": "stream",
     "text": [
      "['EVENT_FLAG_ALTKEY', 'EVENT_FLAG_CTRLKEY', 'EVENT_FLAG_LBUTTON', 'EVENT_FLAG_MBUTTON', 'EVENT_FLAG_RBUTTON', 'EVENT_FLAG_SHIFTKEY', 'EVENT_LBUTTONDBLCLK', 'EVENT_LBUTTONDOWN', 'EVENT_LBUTTONUP', 'EVENT_MBUTTONDBLCLK', 'EVENT_MBUTTONDOWN', 'EVENT_MBUTTONUP', 'EVENT_MOUSEHWHEEL', 'EVENT_MOUSEMOVE', 'EVENT_MOUSEWHEEL', 'EVENT_RBUTTONDBLCLK', 'EVENT_RBUTTONDOWN', 'EVENT_RBUTTONUP']\n"
     ]
    }
   ],
   "source": [
    "# 查看鼠标事件\n",
    "import cv2\n",
    "import numpy as np\n",
    "events=[i for i in dir(cv2) if 'EVENT'in i]\n",
    "print (events) "
   ]
  },
  {
   "cell_type": "code",
   "execution_count": 2,
   "metadata": {},
   "outputs": [],
   "source": [
    "# EVENT_FLAG_LBUTTON 1         #左鍵拖曳  \n",
    "# EVENT_FLAG_RBUTTON 2         #右鍵拖曳  \n",
    "# EVENT_FLAG_MBUTTON 4         #中鍵拖曳  \n",
    "# EVENT_FLAG_CTRLKEY 8         #(8~15)按Ctrl不放事件  \n",
    "# EVENT_FLAG_SHIFTKEY 16       #(16~31)按Shift不放事件  \n",
    "# EVENT_FLAG_ALTKEY 32         #(32~39)按Alt不放事件  \n",
    "# EVENT_MOUSEMOVE 0            #滑动\n",
    "# EVENT_LBUTTONDOWN 1          #左键点击\n",
    "# EVENT_RBUTTONDOWN 2          #右键点击\n",
    "# EVENT_MBUTTONDOWN 3          #中键点击\n",
    "# EVENT_LBUTTONUP 4            #左键放开\n",
    "# EVENT_RBUTTONUP 5            #右键放开\n",
    "# EVENT_MBUTTONUP 6            #中键放开\n",
    "# EVENT_LBUTTONDBLCLK 7        #左键双击\n",
    "# EVENT_RBUTTONDBLCLK 8        #右键双击\n",
    "# EVENT_MBUTTONDBLCLK 9        #中键双击"
   ]
  },
  {
   "cell_type": "code",
   "execution_count": 3,
   "metadata": {},
   "outputs": [],
   "source": [
    "# 回调函数\n",
    "n = 0    #定义鼠标按下的次数\n",
    "ix = 0   # x,y 坐标的临时存储\n",
    "iy = 0\n",
    "def callback(event,x,y,flags,param):\n",
    "    global n,ix,iy\n",
    "    if event==cv2.EVENT_LBUTTONDOWN :\n",
    "        if n == 0:    #首次按下保存坐标值\n",
    "            n+=1\n",
    "            ix,iy = x,y\n",
    "            cv2.circle(img,(x,y),2,(255,255,255),-1)   #第一次打点\n",
    "        else:        #第二次按下显示矩形\n",
    "            n = 0\n",
    "            cv2.rectangle(img,(ix,iy),(x,y),(255,255,255),3)   #第二次画矩形"
   ]
  },
  {
   "cell_type": "code",
   "execution_count": 4,
   "metadata": {},
   "outputs": [],
   "source": [
    "# 创建图像与窗口并将窗口与回调函数绑定\n",
    "img=np.zeros((512,512,3),np.uint8)\n",
    "cv2.namedWindow('image')\n",
    "cv2.setMouseCallback('image',callback)\n",
    "#显示并延时\n",
    "while(1):\n",
    "    cv2.imshow('image',img)\n",
    "    if cv2.waitKey(20)&0xFF==27:\n",
    "        break\n",
    "#销毁所有窗口\n",
    "cv2.destroyAllWindows()"
   ]
  },
  {
   "cell_type": "code",
   "execution_count": null,
   "metadata": {},
   "outputs": [],
   "source": []
  }
 ],
 "metadata": {
  "kernelspec": {
   "display_name": "Python 3",
   "language": "python",
   "name": "python3"
  },
  "language_info": {
   "codemirror_mode": {
    "name": "ipython",
    "version": 3
   },
   "file_extension": ".py",
   "mimetype": "text/x-python",
   "name": "python",
   "nbconvert_exporter": "python",
   "pygments_lexer": "ipython3",
   "version": "3.6.9"
  }
 },
 "nbformat": 4,
 "nbformat_minor": 2
}
