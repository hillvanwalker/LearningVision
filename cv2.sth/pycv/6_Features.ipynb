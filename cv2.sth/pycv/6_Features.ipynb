{
 "cells": [
  {
   "cell_type": "code",
   "execution_count": 1,
   "metadata": {},
   "outputs": [],
   "source": [
    "# Haaris\n",
    "# SIFT\n",
    "# SURF\n",
    "# FAST\n",
    "# BRIEF\n",
    "# ORB\n",
    "# Brute-Force\n",
    "# KNN\n",
    "# FLANN\n",
    "# Hessian\n",
    "# SURF\n",
    "import cv2\n",
    "import numpy as np\n",
    "import sys\n",
    "img = cv2.imread('/home/seucar/pycv/images/chess_board.png')\n",
    "gray = cv2.cvtColor(img, cv2.COLOR_BGR2GRAY)\n",
    "gray = np.float32(gray)\n",
    "dst = cv2.cornerHarris(gray, 9, 23, 0.04)\n",
    "img[dst>0.01 * dst.max()] = [0, 0, 255] \n",
    "while (True):\n",
    "  cv2.imshow('corners', img)\n",
    "  if cv2.waitKey(0) & 0xff == ord(\"q\"):\n",
    "    break\n",
    "cv2.destroyAllWindows()"
   ]
  },
  {
   "cell_type": "code",
   "execution_count": null,
   "metadata": {},
   "outputs": [],
   "source": [
    "# DoG: different of gaussians"
   ]
  },
  {
   "cell_type": "code",
   "execution_count": null,
   "metadata": {},
   "outputs": [],
   "source": [
    "# 单应性：一个条件，表明当两幅图像中的一幅出现畸变，他们还能匹配"
   ]
  }
 ],
 "metadata": {
  "kernelspec": {
   "display_name": "Python 3",
   "language": "python",
   "name": "python3"
  },
  "language_info": {
   "codemirror_mode": {
    "name": "ipython",
    "version": 3
   },
   "file_extension": ".py",
   "mimetype": "text/x-python",
   "name": "python",
   "nbconvert_exporter": "python",
   "pygments_lexer": "ipython3",
   "version": "3.6.9"
  }
 },
 "nbformat": 4,
 "nbformat_minor": 2
}
